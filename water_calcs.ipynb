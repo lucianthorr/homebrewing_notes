{
 "cells": [
  {
   "cell_type": "code",
   "execution_count": 12,
   "metadata": {},
   "outputs": [],
   "source": [
    "# Units\n",
    "lb = lbs = 1\n",
    "gallon = gallons = 1\n",
    "ounce = ounces = 1"
   ]
  },
  {
   "cell_type": "code",
   "execution_count": 13,
   "metadata": {},
   "outputs": [],
   "source": [
    "# Constants\n",
    "hlt_deadspace = 2.25*gallons\n",
    "mash_deadspace = 0.25*gallons  # what the hell did I mean by this?\n",
    "hot_side_tubing_deadspace = 0.25*gallons\n",
    "cold_side_tubing_deadspace = 0.25*gallons\n",
    "boil_deadspace = 2.25*gallons"
   ]
  },
  {
   "cell_type": "code",
   "execution_count": 14,
   "metadata": {},
   "outputs": [],
   "source": [
    "# Formulas\n",
    "mash_thickness = lambda lbs_grains: lbs_grains*(0.375*(gallons/lb))\n",
    "grain_absorption = lambda lbs_grains: lbs_grains*(0.125*(gallons/lb))\n",
    "hop_absorption = lambda ounces_hops: ounces_hops*(0.04*(gallons/ounce))\n",
    "boil_off = lambda boil_hours: (1.5*gallons)*boil_hours"
   ]
  },
  {
   "cell_type": "code",
   "execution_count": 15,
   "metadata": {},
   "outputs": [],
   "source": [
    "def how_much_water_do_I_need(lbs_grain=0, ounces_hops=0, boil_hours=0, final_expected_volume=5.5):\n",
    "    dead_liquid = hlt_deadspace + hot_side_tubing_deadspace + cold_side_tubing_deadspace + boil_deadspace\n",
    "    lost_to_grains = grain_absorption(lbs_grain)\n",
    "    lost_to_hops = hop_absorption(ounces_hops)\n",
    "    evaporation = boil_off(boil_hours)\n",
    "    start_volume = dead_liquid + lost_to_grains + lost_to_hops + evaporation + final_expected_volume\n",
    "    mash_volume = mash_thickness(lbs_grain) + mash_deadspace + hot_side_tubing_deadspace\n",
    "    pre_boil_volume = final_expected_volume + evaporation + lost_to_hops + cold_side_tubing_deadspace + boil_deadspace + lost_to_hops\n",
    "    post_boil_volume = pre_boil_volume - evaporation\n",
    "    sparge_volume = pre_boil_volume + lost_to_grains + cold_side_tubing_deadspace - mash_volume\n",
    "    return {\n",
    "        \"start_volume\": start_volume,\n",
    "        \"mash_volume\": mash_volume,\n",
    "        \"sparge_volume\": sparge_volume,\n",
    "        \"pre-boil_volume\": pre_boil_volume,\n",
    "        \"post-boil_volume\": post_boil_volume,\n",
    "        \"fermenter_volume\": final_expected_volume\n",
    "    }"
   ]
  },
  {
   "cell_type": "code",
   "execution_count": 16,
   "metadata": {},
   "outputs": [
    {
     "data": {
      "text/plain": [
       "{'fermenter_volume': 5.5,\n",
       " 'mash_volume': 7.512499999999999,\n",
       " 'post-boil_volume': 8.64,\n",
       " 'pre-boil_volume': 10.14,\n",
       " 'sparge_volume': 5.215000000000002,\n",
       " 'start_volume': 14.6575}"
      ]
     },
     "execution_count": 16,
     "metadata": {},
     "output_type": "execute_result"
    }
   ],
   "source": [
    "how_much_water_do_I_need(lbs_grain=18.7, ounces_hops=8, boil_hours=1, final_expected_volume=5.5)"
   ]
  },
  {
   "cell_type": "markdown",
   "metadata": {},
   "source": [
    "### Note about working with gravity:\n",
    "Specific Gravity needs to be converted from the 1.050 format to 50 before doing math with it.\n",
    "so always multiply and/or divide by 1000\n",
    "1.050 == 50"
   ]
  },
  {
   "cell_type": "code",
   "execution_count": 54,
   "metadata": {},
   "outputs": [],
   "source": [
    "# gravity in SG (ie, 1.050)\n",
    "def what_is_my_expected_post_boil_gravity(pre_boil_volume, pre_boil_gravity, boil_hours):\n",
    "    post_boil_volume = pre_boil_volume - boil_off(boil_hours)\n",
    "    converted_gravity = (pre_boil_gravity-1) * 1000\n",
    "    post_boil_gravity = ((pre_boil_volume*gallons) * converted_gravity) / (post_boil_volume)\n",
    "    return 1+(post_boil_gravity/1000.0)\n",
    "                                          "
   ]
  },
  {
   "cell_type": "code",
   "execution_count": 55,
   "metadata": {},
   "outputs": [
    {
     "data": {
      "text/plain": [
       "1.0446250540870585"
      ]
     },
     "execution_count": 55,
     "metadata": {},
     "output_type": "execute_result"
    }
   ],
   "source": [
    "what_is_my_expected_post_boil_gravity(11.8999, 1.039, 1)"
   ]
  },
  {
   "cell_type": "code",
   "execution_count": 72,
   "metadata": {},
   "outputs": [
    {
     "data": {
      "text/plain": [
       "1.048230769230769"
      ]
     },
     "execution_count": 72,
     "metadata": {},
     "output_type": "execute_result"
    }
   ],
   "source": [
    "# pre-boil gravity = (post-boil_gravity * post_boil_vol) / pre_boil_volume\n",
    "pre_boil_grav = 1 + ((((1.057 - 1) * 1000 * 8.25) / (8.25+1.5)) / 1000)\n",
    "pre_boil_grav"
   ]
  },
  {
   "cell_type": "code",
   "execution_count": 82,
   "metadata": {},
   "outputs": [],
   "source": [
    "def what_do_i_need(post_boil_vol=8.25, post_boil_og=1.57, boil_length=1.0, hops=6.0):\n",
    "    pre_boil_vol = post_boil_vol + boil_off(boil_length) + hop_absorption(hops)\n",
    "    pre_boil_gravity = 1 + ((((post_boil_og - 1) * 1000 * post_boil_vol) / (pre_boil_vol)) / 1000)\n",
    "    return \"{} gallons of {} gravity wort\".format(pre_boil_gravity, pre_boil_vol)"
   ]
  },
  {
   "cell_type": "code",
   "execution_count": 83,
   "metadata": {},
   "outputs": [
    {
     "data": {
      "text/plain": [
       "'1.470720720720721 gallons of 9.99 gravity wort'"
      ]
     },
     "execution_count": 83,
     "metadata": {},
     "output_type": "execute_result"
    }
   ],
   "source": [
    "what_do_i_need()"
   ]
  },
  {
   "cell_type": "markdown",
   "metadata": {},
   "source": [
    "## How to make a recipe:\n",
    "- 1. What's the post boil gravity and volume need to be?\n",
    "- 2. Use that to figure out what the pre-boil gravity and pre-boil volume needs to be\n",
    "- 3. Use the brewers friend recipe builder to dial in the given boil size with an efficiency of 72%"
   ]
  },
  {
   "cell_type": "code",
   "execution_count": null,
   "metadata": {},
   "outputs": [],
   "source": []
  }
 ],
 "metadata": {
  "kernelspec": {
   "display_name": "Python 3",
   "language": "python",
   "name": "python3"
  },
  "language_info": {
   "codemirror_mode": {
    "name": "ipython",
    "version": 3
   },
   "file_extension": ".py",
   "mimetype": "text/x-python",
   "name": "python",
   "nbconvert_exporter": "python",
   "pygments_lexer": "ipython3",
   "version": "3.4.2"
  }
 },
 "nbformat": 4,
 "nbformat_minor": 2
}
