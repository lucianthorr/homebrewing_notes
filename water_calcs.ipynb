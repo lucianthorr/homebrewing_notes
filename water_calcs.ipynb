{
 "cells": [
  {
   "cell_type": "code",
   "execution_count": 8,
   "metadata": {},
   "outputs": [],
   "source": [
    "# Units\n",
    "lb = lbs = 1\n",
    "gallon = gallons = 1\n",
    "ounce = ounces = 1"
   ]
  },
  {
   "cell_type": "code",
   "execution_count": 9,
   "metadata": {},
   "outputs": [],
   "source": [
    "# Constants\n",
    "hlt_deadspace = 2.25*gallons\n",
    "mash_deadspace = 0.25*gallons\n",
    "hot_side_tubing_deadspace = 0.25*gallons\n",
    "cold_side_tubing_deadspace = 0.25*gallons\n",
    "boil_deadspace = 2.25*gallons"
   ]
  },
  {
   "cell_type": "code",
   "execution_count": 10,
   "metadata": {},
   "outputs": [],
   "source": [
    "# Formulas\n",
    "mash_thickness = lambda lbs_grains: lbs_grains*(0.375*(gallons/lb))\n",
    "grain_absorption = lambda lbs_grains: lbs_grains*(0.125*(gallons/lb))\n",
    "hop_absorption = lambda ounces_hops: ounces_hops*(0.15*(gallons/ounce))\n",
    "boil_off = lambda boil_hours: (1.5*gallons)*boil_hours"
   ]
  },
  {
   "cell_type": "code",
   "execution_count": 21,
   "metadata": {},
   "outputs": [],
   "source": [
    "def how_much_water_do_I_need(lbs_grain=0, ounces_hops=0, boil_hours=0, final_expected_volume=5.5):\n",
    "    dead_liquid = hlt_deadspace + hot_side_tubing_deadspace + cold_side_tubing_deadspace + boil_deadspace\n",
    "    lost_to_grains = grain_absorption(lbs_grain)\n",
    "    lost_to_hops = hop_absorption(ounces_hops)\n",
    "    evaporation = boil_off(boil_hours)\n",
    "    start_volume = dead_liquid + lost_to_grains + lost_to_hops + evaporation + final_expected_volume\n",
    "    strike_volume = mash_thickness(lbs_grain) + mash_deadspace + hot_side_tubing_deadspace\n",
    "    pre_boil_volume = final_expected_volume + evaporation + lost_to_hops + cold_side_tubing_deadspace + boil_deadspace + lost_to_hops\n",
    "    post_boil_volume = pre_boil_volume - evaporation\n",
    "    sparge_volume = pre_boil_volume + lost_to_grains + cold_side_tubing_deadspace - strike_volume\n",
    "    return {\n",
    "        \"start_volume\": start_volume,\n",
    "        \"mash_volume\": strike_volume,\n",
    "        \"sparge_volume\": sparge_volume,\n",
    "        \"pre-boil_volume\": pre_boil_volume,\n",
    "        \"post-boil_volume\": post_boil_volume,\n",
    "        \"fermenter_volume\": final_expected_volume\n",
    "    }"
   ]
  },
  {
   "cell_type": "code",
   "execution_count": 22,
   "metadata": {},
   "outputs": [
    {
     "data": {
      "text/plain": [
       "{'fermenter_volume': 5.5,\n",
       " 'mash_volume': 10.83125,\n",
       " 'post-boil_volume': 8.3,\n",
       " 'pre-boil_volume': 10.55,\n",
       " 'sparge_volume': 3.4124999999999996,\n",
       " 'start_volume': 16.34375}"
      ]
     },
     "execution_count": 22,
     "metadata": {},
     "output_type": "execute_result"
    }
   ],
   "source": [
    "how_much_water_do_I_need(lbs_grain=27.55, ounces_hops=1, boil_hours=1.5, final_expected_volume=5.5)"
   ]
  },
  {
   "cell_type": "code",
   "execution_count": 23,
   "metadata": {},
   "outputs": [],
   "source": [
    "# gravity in SG (ie, 1.050)\n",
    "def what_is_my_expected_post_boil_gravity(pre_boil_volume, pre_boil_gravity, boil_hours):\n",
    "    post_boil_volume = pre_boil_volume - boil_off(boil_hours)\n",
    "    converted_gravity = (pre_boil_gravity-1) * 1000\n",
    "    post_boil_gravity = ((pre_boil_volume*gallons) * converted_gravity) / (post_boil_volume)\n",
    "    return 1+(post_boil_gravity/1000.0)\n",
    "                                          "
   ]
  },
  {
   "cell_type": "code",
   "execution_count": 24,
   "metadata": {},
   "outputs": [
    {
     "data": {
      "text/plain": [
       "1.086433734939759"
      ]
     },
     "execution_count": 24,
     "metadata": {},
     "output_type": "execute_result"
    }
   ],
   "source": [
    "what_is_my_expected_post_boil_gravity(10.55, 1.068, 1.5)"
   ]
  },
  {
   "cell_type": "code",
   "execution_count": null,
   "metadata": {},
   "outputs": [],
   "source": []
  },
  {
   "cell_type": "code",
   "execution_count": null,
   "metadata": {},
   "outputs": [],
   "source": []
  }
 ],
 "metadata": {
  "kernelspec": {
   "display_name": "Python 3",
   "language": "python",
   "name": "python3"
  },
  "language_info": {
   "codemirror_mode": {
    "name": "ipython",
    "version": 3
   },
   "file_extension": ".py",
   "mimetype": "text/x-python",
   "name": "python",
   "nbconvert_exporter": "python",
   "pygments_lexer": "ipython3",
   "version": "3.4.2"
  }
 },
 "nbformat": 4,
 "nbformat_minor": 2
}
